{
  "nbformat": 4,
  "nbformat_minor": 0,
  "metadata": {
    "colab": {
      "provenance": [],
      "gpuType": "T4"
    },
    "kernelspec": {
      "name": "python3",
      "display_name": "Python 3"
    },
    "language_info": {
      "name": "python"
    },
    "accelerator": "GPU",
    "widgets": {
      "application/vnd.jupyter.widget-state+json": {
        "7bcb9cfeee044816af2dea36f0392fe7": {
          "model_module": "@jupyter-widgets/controls",
          "model_name": "HBoxModel",
          "model_module_version": "1.5.0",
          "state": {
            "_dom_classes": [],
            "_model_module": "@jupyter-widgets/controls",
            "_model_module_version": "1.5.0",
            "_model_name": "HBoxModel",
            "_view_count": null,
            "_view_module": "@jupyter-widgets/controls",
            "_view_module_version": "1.5.0",
            "_view_name": "HBoxView",
            "box_style": "",
            "children": [
              "IPY_MODEL_ee9b638c2fbf472da909c883cc01cdef",
              "IPY_MODEL_4d1160b560e54e0fa102f769b73158a9",
              "IPY_MODEL_be38f81a3bc74f78b92b9cf3eae7db86"
            ],
            "layout": "IPY_MODEL_390fbe03680645e7937eb036f5ba7f26"
          }
        },
        "ee9b638c2fbf472da909c883cc01cdef": {
          "model_module": "@jupyter-widgets/controls",
          "model_name": "HTMLModel",
          "model_module_version": "1.5.0",
          "state": {
            "_dom_classes": [],
            "_model_module": "@jupyter-widgets/controls",
            "_model_module_version": "1.5.0",
            "_model_name": "HTMLModel",
            "_view_count": null,
            "_view_module": "@jupyter-widgets/controls",
            "_view_module_version": "1.5.0",
            "_view_name": "HTMLView",
            "description": "",
            "description_tooltip": null,
            "layout": "IPY_MODEL_fecb2e3168844ded9f6adeefe48f0054",
            "placeholder": "​",
            "style": "IPY_MODEL_504a8cca1a934137aa91597e09c58629",
            "value": "Map: 100%"
          }
        },
        "4d1160b560e54e0fa102f769b73158a9": {
          "model_module": "@jupyter-widgets/controls",
          "model_name": "FloatProgressModel",
          "model_module_version": "1.5.0",
          "state": {
            "_dom_classes": [],
            "_model_module": "@jupyter-widgets/controls",
            "_model_module_version": "1.5.0",
            "_model_name": "FloatProgressModel",
            "_view_count": null,
            "_view_module": "@jupyter-widgets/controls",
            "_view_module_version": "1.5.0",
            "_view_name": "ProgressView",
            "bar_style": "success",
            "description": "",
            "description_tooltip": null,
            "layout": "IPY_MODEL_8a7c34f86bc7476398ae374a188038be",
            "max": 9286,
            "min": 0,
            "orientation": "horizontal",
            "style": "IPY_MODEL_2158c645f7fc4b9481d25c9a1f67e1fb",
            "value": 9286
          }
        },
        "be38f81a3bc74f78b92b9cf3eae7db86": {
          "model_module": "@jupyter-widgets/controls",
          "model_name": "HTMLModel",
          "model_module_version": "1.5.0",
          "state": {
            "_dom_classes": [],
            "_model_module": "@jupyter-widgets/controls",
            "_model_module_version": "1.5.0",
            "_model_name": "HTMLModel",
            "_view_count": null,
            "_view_module": "@jupyter-widgets/controls",
            "_view_module_version": "1.5.0",
            "_view_name": "HTMLView",
            "description": "",
            "description_tooltip": null,
            "layout": "IPY_MODEL_a0432550ea7f495eabedf482f17f2df4",
            "placeholder": "​",
            "style": "IPY_MODEL_ad405ee0dcb048aa87782fffa4af00b9",
            "value": " 9286/9286 [00:09&lt;00:00, 1089.59 examples/s]"
          }
        },
        "390fbe03680645e7937eb036f5ba7f26": {
          "model_module": "@jupyter-widgets/base",
          "model_name": "LayoutModel",
          "model_module_version": "1.2.0",
          "state": {
            "_model_module": "@jupyter-widgets/base",
            "_model_module_version": "1.2.0",
            "_model_name": "LayoutModel",
            "_view_count": null,
            "_view_module": "@jupyter-widgets/base",
            "_view_module_version": "1.2.0",
            "_view_name": "LayoutView",
            "align_content": null,
            "align_items": null,
            "align_self": null,
            "border": null,
            "bottom": null,
            "display": null,
            "flex": null,
            "flex_flow": null,
            "grid_area": null,
            "grid_auto_columns": null,
            "grid_auto_flow": null,
            "grid_auto_rows": null,
            "grid_column": null,
            "grid_gap": null,
            "grid_row": null,
            "grid_template_areas": null,
            "grid_template_columns": null,
            "grid_template_rows": null,
            "height": null,
            "justify_content": null,
            "justify_items": null,
            "left": null,
            "margin": null,
            "max_height": null,
            "max_width": null,
            "min_height": null,
            "min_width": null,
            "object_fit": null,
            "object_position": null,
            "order": null,
            "overflow": null,
            "overflow_x": null,
            "overflow_y": null,
            "padding": null,
            "right": null,
            "top": null,
            "visibility": null,
            "width": null
          }
        },
        "fecb2e3168844ded9f6adeefe48f0054": {
          "model_module": "@jupyter-widgets/base",
          "model_name": "LayoutModel",
          "model_module_version": "1.2.0",
          "state": {
            "_model_module": "@jupyter-widgets/base",
            "_model_module_version": "1.2.0",
            "_model_name": "LayoutModel",
            "_view_count": null,
            "_view_module": "@jupyter-widgets/base",
            "_view_module_version": "1.2.0",
            "_view_name": "LayoutView",
            "align_content": null,
            "align_items": null,
            "align_self": null,
            "border": null,
            "bottom": null,
            "display": null,
            "flex": null,
            "flex_flow": null,
            "grid_area": null,
            "grid_auto_columns": null,
            "grid_auto_flow": null,
            "grid_auto_rows": null,
            "grid_column": null,
            "grid_gap": null,
            "grid_row": null,
            "grid_template_areas": null,
            "grid_template_columns": null,
            "grid_template_rows": null,
            "height": null,
            "justify_content": null,
            "justify_items": null,
            "left": null,
            "margin": null,
            "max_height": null,
            "max_width": null,
            "min_height": null,
            "min_width": null,
            "object_fit": null,
            "object_position": null,
            "order": null,
            "overflow": null,
            "overflow_x": null,
            "overflow_y": null,
            "padding": null,
            "right": null,
            "top": null,
            "visibility": null,
            "width": null
          }
        },
        "504a8cca1a934137aa91597e09c58629": {
          "model_module": "@jupyter-widgets/controls",
          "model_name": "DescriptionStyleModel",
          "model_module_version": "1.5.0",
          "state": {
            "_model_module": "@jupyter-widgets/controls",
            "_model_module_version": "1.5.0",
            "_model_name": "DescriptionStyleModel",
            "_view_count": null,
            "_view_module": "@jupyter-widgets/base",
            "_view_module_version": "1.2.0",
            "_view_name": "StyleView",
            "description_width": ""
          }
        },
        "8a7c34f86bc7476398ae374a188038be": {
          "model_module": "@jupyter-widgets/base",
          "model_name": "LayoutModel",
          "model_module_version": "1.2.0",
          "state": {
            "_model_module": "@jupyter-widgets/base",
            "_model_module_version": "1.2.0",
            "_model_name": "LayoutModel",
            "_view_count": null,
            "_view_module": "@jupyter-widgets/base",
            "_view_module_version": "1.2.0",
            "_view_name": "LayoutView",
            "align_content": null,
            "align_items": null,
            "align_self": null,
            "border": null,
            "bottom": null,
            "display": null,
            "flex": null,
            "flex_flow": null,
            "grid_area": null,
            "grid_auto_columns": null,
            "grid_auto_flow": null,
            "grid_auto_rows": null,
            "grid_column": null,
            "grid_gap": null,
            "grid_row": null,
            "grid_template_areas": null,
            "grid_template_columns": null,
            "grid_template_rows": null,
            "height": null,
            "justify_content": null,
            "justify_items": null,
            "left": null,
            "margin": null,
            "max_height": null,
            "max_width": null,
            "min_height": null,
            "min_width": null,
            "object_fit": null,
            "object_position": null,
            "order": null,
            "overflow": null,
            "overflow_x": null,
            "overflow_y": null,
            "padding": null,
            "right": null,
            "top": null,
            "visibility": null,
            "width": null
          }
        },
        "2158c645f7fc4b9481d25c9a1f67e1fb": {
          "model_module": "@jupyter-widgets/controls",
          "model_name": "ProgressStyleModel",
          "model_module_version": "1.5.0",
          "state": {
            "_model_module": "@jupyter-widgets/controls",
            "_model_module_version": "1.5.0",
            "_model_name": "ProgressStyleModel",
            "_view_count": null,
            "_view_module": "@jupyter-widgets/base",
            "_view_module_version": "1.2.0",
            "_view_name": "StyleView",
            "bar_color": null,
            "description_width": ""
          }
        },
        "a0432550ea7f495eabedf482f17f2df4": {
          "model_module": "@jupyter-widgets/base",
          "model_name": "LayoutModel",
          "model_module_version": "1.2.0",
          "state": {
            "_model_module": "@jupyter-widgets/base",
            "_model_module_version": "1.2.0",
            "_model_name": "LayoutModel",
            "_view_count": null,
            "_view_module": "@jupyter-widgets/base",
            "_view_module_version": "1.2.0",
            "_view_name": "LayoutView",
            "align_content": null,
            "align_items": null,
            "align_self": null,
            "border": null,
            "bottom": null,
            "display": null,
            "flex": null,
            "flex_flow": null,
            "grid_area": null,
            "grid_auto_columns": null,
            "grid_auto_flow": null,
            "grid_auto_rows": null,
            "grid_column": null,
            "grid_gap": null,
            "grid_row": null,
            "grid_template_areas": null,
            "grid_template_columns": null,
            "grid_template_rows": null,
            "height": null,
            "justify_content": null,
            "justify_items": null,
            "left": null,
            "margin": null,
            "max_height": null,
            "max_width": null,
            "min_height": null,
            "min_width": null,
            "object_fit": null,
            "object_position": null,
            "order": null,
            "overflow": null,
            "overflow_x": null,
            "overflow_y": null,
            "padding": null,
            "right": null,
            "top": null,
            "visibility": null,
            "width": null
          }
        },
        "ad405ee0dcb048aa87782fffa4af00b9": {
          "model_module": "@jupyter-widgets/controls",
          "model_name": "DescriptionStyleModel",
          "model_module_version": "1.5.0",
          "state": {
            "_model_module": "@jupyter-widgets/controls",
            "_model_module_version": "1.5.0",
            "_model_name": "DescriptionStyleModel",
            "_view_count": null,
            "_view_module": "@jupyter-widgets/base",
            "_view_module_version": "1.2.0",
            "_view_name": "StyleView",
            "description_width": ""
          }
        },
        "bd56492e945a4a0ca642cb29201531bd": {
          "model_module": "@jupyter-widgets/controls",
          "model_name": "HBoxModel",
          "model_module_version": "1.5.0",
          "state": {
            "_dom_classes": [],
            "_model_module": "@jupyter-widgets/controls",
            "_model_module_version": "1.5.0",
            "_model_name": "HBoxModel",
            "_view_count": null,
            "_view_module": "@jupyter-widgets/controls",
            "_view_module_version": "1.5.0",
            "_view_name": "HBoxView",
            "box_style": "",
            "children": [
              "IPY_MODEL_42d2382e5a5744deb9deeb6888deaf52",
              "IPY_MODEL_5a386ac48e4d47b293fa4d56d45930aa",
              "IPY_MODEL_555f10af323b4285bb8cb316ee8bf6a5"
            ],
            "layout": "IPY_MODEL_48501dc06592445bba795c4c79f7b7f2"
          }
        },
        "42d2382e5a5744deb9deeb6888deaf52": {
          "model_module": "@jupyter-widgets/controls",
          "model_name": "HTMLModel",
          "model_module_version": "1.5.0",
          "state": {
            "_dom_classes": [],
            "_model_module": "@jupyter-widgets/controls",
            "_model_module_version": "1.5.0",
            "_model_name": "HTMLModel",
            "_view_count": null,
            "_view_module": "@jupyter-widgets/controls",
            "_view_module_version": "1.5.0",
            "_view_name": "HTMLView",
            "description": "",
            "description_tooltip": null,
            "layout": "IPY_MODEL_abdeb7aad685442a8b687be3bffa2ade",
            "placeholder": "​",
            "style": "IPY_MODEL_09c20bd7bd4a49db8154db3d85db4c7b",
            "value": "Map: 100%"
          }
        },
        "5a386ac48e4d47b293fa4d56d45930aa": {
          "model_module": "@jupyter-widgets/controls",
          "model_name": "FloatProgressModel",
          "model_module_version": "1.5.0",
          "state": {
            "_dom_classes": [],
            "_model_module": "@jupyter-widgets/controls",
            "_model_module_version": "1.5.0",
            "_model_name": "FloatProgressModel",
            "_view_count": null,
            "_view_module": "@jupyter-widgets/controls",
            "_view_module_version": "1.5.0",
            "_view_name": "ProgressView",
            "bar_style": "success",
            "description": "",
            "description_tooltip": null,
            "layout": "IPY_MODEL_fce0762da792430fa07c7644b118e94b",
            "max": 9283,
            "min": 0,
            "orientation": "horizontal",
            "style": "IPY_MODEL_3158221e692b4924a1c197c51e055d91",
            "value": 9283
          }
        },
        "555f10af323b4285bb8cb316ee8bf6a5": {
          "model_module": "@jupyter-widgets/controls",
          "model_name": "HTMLModel",
          "model_module_version": "1.5.0",
          "state": {
            "_dom_classes": [],
            "_model_module": "@jupyter-widgets/controls",
            "_model_module_version": "1.5.0",
            "_model_name": "HTMLModel",
            "_view_count": null,
            "_view_module": "@jupyter-widgets/controls",
            "_view_module_version": "1.5.0",
            "_view_name": "HTMLView",
            "description": "",
            "description_tooltip": null,
            "layout": "IPY_MODEL_f3a98c10b801478a9c3ed670df1db470",
            "placeholder": "​",
            "style": "IPY_MODEL_4ddd29b533994c2ea1f5049e54318f01",
            "value": " 9283/9283 [00:10&lt;00:00, 773.16 examples/s]"
          }
        },
        "48501dc06592445bba795c4c79f7b7f2": {
          "model_module": "@jupyter-widgets/base",
          "model_name": "LayoutModel",
          "model_module_version": "1.2.0",
          "state": {
            "_model_module": "@jupyter-widgets/base",
            "_model_module_version": "1.2.0",
            "_model_name": "LayoutModel",
            "_view_count": null,
            "_view_module": "@jupyter-widgets/base",
            "_view_module_version": "1.2.0",
            "_view_name": "LayoutView",
            "align_content": null,
            "align_items": null,
            "align_self": null,
            "border": null,
            "bottom": null,
            "display": null,
            "flex": null,
            "flex_flow": null,
            "grid_area": null,
            "grid_auto_columns": null,
            "grid_auto_flow": null,
            "grid_auto_rows": null,
            "grid_column": null,
            "grid_gap": null,
            "grid_row": null,
            "grid_template_areas": null,
            "grid_template_columns": null,
            "grid_template_rows": null,
            "height": null,
            "justify_content": null,
            "justify_items": null,
            "left": null,
            "margin": null,
            "max_height": null,
            "max_width": null,
            "min_height": null,
            "min_width": null,
            "object_fit": null,
            "object_position": null,
            "order": null,
            "overflow": null,
            "overflow_x": null,
            "overflow_y": null,
            "padding": null,
            "right": null,
            "top": null,
            "visibility": null,
            "width": null
          }
        },
        "abdeb7aad685442a8b687be3bffa2ade": {
          "model_module": "@jupyter-widgets/base",
          "model_name": "LayoutModel",
          "model_module_version": "1.2.0",
          "state": {
            "_model_module": "@jupyter-widgets/base",
            "_model_module_version": "1.2.0",
            "_model_name": "LayoutModel",
            "_view_count": null,
            "_view_module": "@jupyter-widgets/base",
            "_view_module_version": "1.2.0",
            "_view_name": "LayoutView",
            "align_content": null,
            "align_items": null,
            "align_self": null,
            "border": null,
            "bottom": null,
            "display": null,
            "flex": null,
            "flex_flow": null,
            "grid_area": null,
            "grid_auto_columns": null,
            "grid_auto_flow": null,
            "grid_auto_rows": null,
            "grid_column": null,
            "grid_gap": null,
            "grid_row": null,
            "grid_template_areas": null,
            "grid_template_columns": null,
            "grid_template_rows": null,
            "height": null,
            "justify_content": null,
            "justify_items": null,
            "left": null,
            "margin": null,
            "max_height": null,
            "max_width": null,
            "min_height": null,
            "min_width": null,
            "object_fit": null,
            "object_position": null,
            "order": null,
            "overflow": null,
            "overflow_x": null,
            "overflow_y": null,
            "padding": null,
            "right": null,
            "top": null,
            "visibility": null,
            "width": null
          }
        },
        "09c20bd7bd4a49db8154db3d85db4c7b": {
          "model_module": "@jupyter-widgets/controls",
          "model_name": "DescriptionStyleModel",
          "model_module_version": "1.5.0",
          "state": {
            "_model_module": "@jupyter-widgets/controls",
            "_model_module_version": "1.5.0",
            "_model_name": "DescriptionStyleModel",
            "_view_count": null,
            "_view_module": "@jupyter-widgets/base",
            "_view_module_version": "1.2.0",
            "_view_name": "StyleView",
            "description_width": ""
          }
        },
        "fce0762da792430fa07c7644b118e94b": {
          "model_module": "@jupyter-widgets/base",
          "model_name": "LayoutModel",
          "model_module_version": "1.2.0",
          "state": {
            "_model_module": "@jupyter-widgets/base",
            "_model_module_version": "1.2.0",
            "_model_name": "LayoutModel",
            "_view_count": null,
            "_view_module": "@jupyter-widgets/base",
            "_view_module_version": "1.2.0",
            "_view_name": "LayoutView",
            "align_content": null,
            "align_items": null,
            "align_self": null,
            "border": null,
            "bottom": null,
            "display": null,
            "flex": null,
            "flex_flow": null,
            "grid_area": null,
            "grid_auto_columns": null,
            "grid_auto_flow": null,
            "grid_auto_rows": null,
            "grid_column": null,
            "grid_gap": null,
            "grid_row": null,
            "grid_template_areas": null,
            "grid_template_columns": null,
            "grid_template_rows": null,
            "height": null,
            "justify_content": null,
            "justify_items": null,
            "left": null,
            "margin": null,
            "max_height": null,
            "max_width": null,
            "min_height": null,
            "min_width": null,
            "object_fit": null,
            "object_position": null,
            "order": null,
            "overflow": null,
            "overflow_x": null,
            "overflow_y": null,
            "padding": null,
            "right": null,
            "top": null,
            "visibility": null,
            "width": null
          }
        },
        "3158221e692b4924a1c197c51e055d91": {
          "model_module": "@jupyter-widgets/controls",
          "model_name": "ProgressStyleModel",
          "model_module_version": "1.5.0",
          "state": {
            "_model_module": "@jupyter-widgets/controls",
            "_model_module_version": "1.5.0",
            "_model_name": "ProgressStyleModel",
            "_view_count": null,
            "_view_module": "@jupyter-widgets/base",
            "_view_module_version": "1.2.0",
            "_view_name": "StyleView",
            "bar_color": null,
            "description_width": ""
          }
        },
        "f3a98c10b801478a9c3ed670df1db470": {
          "model_module": "@jupyter-widgets/base",
          "model_name": "LayoutModel",
          "model_module_version": "1.2.0",
          "state": {
            "_model_module": "@jupyter-widgets/base",
            "_model_module_version": "1.2.0",
            "_model_name": "LayoutModel",
            "_view_count": null,
            "_view_module": "@jupyter-widgets/base",
            "_view_module_version": "1.2.0",
            "_view_name": "LayoutView",
            "align_content": null,
            "align_items": null,
            "align_self": null,
            "border": null,
            "bottom": null,
            "display": null,
            "flex": null,
            "flex_flow": null,
            "grid_area": null,
            "grid_auto_columns": null,
            "grid_auto_flow": null,
            "grid_auto_rows": null,
            "grid_column": null,
            "grid_gap": null,
            "grid_row": null,
            "grid_template_areas": null,
            "grid_template_columns": null,
            "grid_template_rows": null,
            "height": null,
            "justify_content": null,
            "justify_items": null,
            "left": null,
            "margin": null,
            "max_height": null,
            "max_width": null,
            "min_height": null,
            "min_width": null,
            "object_fit": null,
            "object_position": null,
            "order": null,
            "overflow": null,
            "overflow_x": null,
            "overflow_y": null,
            "padding": null,
            "right": null,
            "top": null,
            "visibility": null,
            "width": null
          }
        },
        "4ddd29b533994c2ea1f5049e54318f01": {
          "model_module": "@jupyter-widgets/controls",
          "model_name": "DescriptionStyleModel",
          "model_module_version": "1.5.0",
          "state": {
            "_model_module": "@jupyter-widgets/controls",
            "_model_module_version": "1.5.0",
            "_model_name": "DescriptionStyleModel",
            "_view_count": null,
            "_view_module": "@jupyter-widgets/base",
            "_view_module_version": "1.2.0",
            "_view_name": "StyleView",
            "description_width": ""
          }
        }
      }
    }
  },
  "cells": [
    {
      "cell_type": "code",
      "source": [
        "!pip install transformers datasets evaluate\n"
      ],
      "metadata": {
        "id": "hSUKRbAjwuy7",
        "colab": {
          "base_uri": "https://localhost:8080/"
        },
        "outputId": "a7ac21f3-157e-4c09-b7f0-5e6443a741e7"
      },
      "execution_count": null,
      "outputs": [
        {
          "output_type": "stream",
          "name": "stdout",
          "text": [
            "Requirement already satisfied: transformers in /usr/local/lib/python3.11/dist-packages (4.51.3)\n",
            "Requirement already satisfied: datasets in /usr/local/lib/python3.11/dist-packages (2.14.4)\n",
            "Collecting evaluate\n",
            "  Downloading evaluate-0.4.3-py3-none-any.whl.metadata (9.2 kB)\n",
            "Requirement already satisfied: filelock in /usr/local/lib/python3.11/dist-packages (from transformers) (3.18.0)\n",
            "Requirement already satisfied: huggingface-hub<1.0,>=0.30.0 in /usr/local/lib/python3.11/dist-packages (from transformers) (0.31.1)\n",
            "Requirement already satisfied: numpy>=1.17 in /usr/local/lib/python3.11/dist-packages (from transformers) (2.0.2)\n",
            "Requirement already satisfied: packaging>=20.0 in /usr/local/lib/python3.11/dist-packages (from transformers) (24.2)\n",
            "Requirement already satisfied: pyyaml>=5.1 in /usr/local/lib/python3.11/dist-packages (from transformers) (6.0.2)\n",
            "Requirement already satisfied: regex!=2019.12.17 in /usr/local/lib/python3.11/dist-packages (from transformers) (2024.11.6)\n",
            "Requirement already satisfied: requests in /usr/local/lib/python3.11/dist-packages (from transformers) (2.32.3)\n",
            "Requirement already satisfied: tokenizers<0.22,>=0.21 in /usr/local/lib/python3.11/dist-packages (from transformers) (0.21.1)\n",
            "Requirement already satisfied: safetensors>=0.4.3 in /usr/local/lib/python3.11/dist-packages (from transformers) (0.5.3)\n",
            "Requirement already satisfied: tqdm>=4.27 in /usr/local/lib/python3.11/dist-packages (from transformers) (4.67.1)\n",
            "Requirement already satisfied: pyarrow>=8.0.0 in /usr/local/lib/python3.11/dist-packages (from datasets) (18.1.0)\n",
            "Requirement already satisfied: dill<0.3.8,>=0.3.0 in /usr/local/lib/python3.11/dist-packages (from datasets) (0.3.7)\n",
            "Requirement already satisfied: pandas in /usr/local/lib/python3.11/dist-packages (from datasets) (2.2.2)\n",
            "Requirement already satisfied: xxhash in /usr/local/lib/python3.11/dist-packages (from datasets) (3.5.0)\n",
            "Requirement already satisfied: multiprocess in /usr/local/lib/python3.11/dist-packages (from datasets) (0.70.15)\n",
            "Requirement already satisfied: fsspec>=2021.11.1 in /usr/local/lib/python3.11/dist-packages (from fsspec[http]>=2021.11.1->datasets) (2025.3.2)\n",
            "Requirement already satisfied: aiohttp in /usr/local/lib/python3.11/dist-packages (from datasets) (3.11.15)\n",
            "Requirement already satisfied: aiohappyeyeballs>=2.3.0 in /usr/local/lib/python3.11/dist-packages (from aiohttp->datasets) (2.6.1)\n",
            "Requirement already satisfied: aiosignal>=1.1.2 in /usr/local/lib/python3.11/dist-packages (from aiohttp->datasets) (1.3.2)\n",
            "Requirement already satisfied: attrs>=17.3.0 in /usr/local/lib/python3.11/dist-packages (from aiohttp->datasets) (25.3.0)\n",
            "Requirement already satisfied: frozenlist>=1.1.1 in /usr/local/lib/python3.11/dist-packages (from aiohttp->datasets) (1.6.0)\n",
            "Requirement already satisfied: multidict<7.0,>=4.5 in /usr/local/lib/python3.11/dist-packages (from aiohttp->datasets) (6.4.3)\n",
            "Requirement already satisfied: propcache>=0.2.0 in /usr/local/lib/python3.11/dist-packages (from aiohttp->datasets) (0.3.1)\n",
            "Requirement already satisfied: yarl<2.0,>=1.17.0 in /usr/local/lib/python3.11/dist-packages (from aiohttp->datasets) (1.20.0)\n",
            "Requirement already satisfied: typing-extensions>=3.7.4.3 in /usr/local/lib/python3.11/dist-packages (from huggingface-hub<1.0,>=0.30.0->transformers) (4.13.2)\n",
            "Requirement already satisfied: hf-xet<2.0.0,>=1.1.0 in /usr/local/lib/python3.11/dist-packages (from huggingface-hub<1.0,>=0.30.0->transformers) (1.1.0)\n",
            "Requirement already satisfied: charset-normalizer<4,>=2 in /usr/local/lib/python3.11/dist-packages (from requests->transformers) (3.4.2)\n",
            "Requirement already satisfied: idna<4,>=2.5 in /usr/local/lib/python3.11/dist-packages (from requests->transformers) (3.10)\n",
            "Requirement already satisfied: urllib3<3,>=1.21.1 in /usr/local/lib/python3.11/dist-packages (from requests->transformers) (2.4.0)\n",
            "Requirement already satisfied: certifi>=2017.4.17 in /usr/local/lib/python3.11/dist-packages (from requests->transformers) (2025.4.26)\n",
            "Requirement already satisfied: python-dateutil>=2.8.2 in /usr/local/lib/python3.11/dist-packages (from pandas->datasets) (2.9.0.post0)\n",
            "Requirement already satisfied: pytz>=2020.1 in /usr/local/lib/python3.11/dist-packages (from pandas->datasets) (2025.2)\n",
            "Requirement already satisfied: tzdata>=2022.7 in /usr/local/lib/python3.11/dist-packages (from pandas->datasets) (2025.2)\n",
            "Requirement already satisfied: six>=1.5 in /usr/local/lib/python3.11/dist-packages (from python-dateutil>=2.8.2->pandas->datasets) (1.17.0)\n",
            "Downloading evaluate-0.4.3-py3-none-any.whl (84 kB)\n",
            "\u001b[2K   \u001b[90m━━━━━━━━━━━━━━━━━━━━━━━━━━━━━━━━━━━━━━━━\u001b[0m \u001b[32m84.0/84.0 kB\u001b[0m \u001b[31m2.1 MB/s\u001b[0m eta \u001b[36m0:00:00\u001b[0m\n",
            "\u001b[?25hInstalling collected packages: evaluate\n",
            "Successfully installed evaluate-0.4.3\n"
          ]
        }
      ]
    },
    {
      "cell_type": "code",
      "execution_count": null,
      "metadata": {
        "id": "ih8gdogauEIZ"
      },
      "outputs": [],
      "source": [
        "import pandas as pd\n",
        "import random\n",
        "import re\n",
        "from datasets import Dataset\n",
        "from evaluate import load\n",
        "from transformers import (\n",
        "    T5ForConditionalGeneration, T5Tokenizer,\n",
        "    BartForConditionalGeneration, BartTokenizer,\n",
        "    Seq2SeqTrainer, Seq2SeqTrainingArguments,\n",
        "    DataCollatorForSeq2Seq\n",
        ")\n",
        "import torch\n"
      ]
    },
    {
      "cell_type": "code",
      "source": [
        "!pip install jiwer"
      ],
      "metadata": {
        "colab": {
          "base_uri": "https://localhost:8080/"
        },
        "collapsed": true,
        "id": "b0SgwSFxngFs",
        "outputId": "4be62d89-fdf8-4b0a-bec0-d49a839587b4"
      },
      "execution_count": null,
      "outputs": [
        {
          "output_type": "stream",
          "name": "stdout",
          "text": [
            "Collecting jiwer\n",
            "  Downloading jiwer-3.1.0-py3-none-any.whl.metadata (2.6 kB)\n",
            "Requirement already satisfied: click>=8.1.8 in /usr/local/lib/python3.11/dist-packages (from jiwer) (8.1.8)\n",
            "Collecting rapidfuzz>=3.9.7 (from jiwer)\n",
            "  Downloading rapidfuzz-3.13.0-cp311-cp311-manylinux_2_17_x86_64.manylinux2014_x86_64.whl.metadata (12 kB)\n",
            "Downloading jiwer-3.1.0-py3-none-any.whl (22 kB)\n",
            "Downloading rapidfuzz-3.13.0-cp311-cp311-manylinux_2_17_x86_64.manylinux2014_x86_64.whl (3.1 MB)\n",
            "\u001b[2K   \u001b[90m━━━━━━━━━━━━━━━━━━━━━━━━━━━━━━━━━━━━━━━━\u001b[0m \u001b[32m3.1/3.1 MB\u001b[0m \u001b[31m30.4 MB/s\u001b[0m eta \u001b[36m0:00:00\u001b[0m\n",
            "\u001b[?25hInstalling collected packages: rapidfuzz, jiwer\n",
            "Successfully installed jiwer-3.1.0 rapidfuzz-3.13.0\n"
          ]
        }
      ]
    },
    {
      "cell_type": "code",
      "source": [
        "import requests\n",
        "\n",
        "base_url = \"https://raw.githubusercontent.com/google-research-datasets/wiki-split/master/\"\n",
        "files = [\"tune.tsv\", \"validation.tsv\", \"test.tsv\"]\n",
        "\n",
        "for file in files:\n",
        "    url = base_url + file\n",
        "    response = requests.get(url)\n",
        "    if response.status_code == 200:\n",
        "        with open(file, 'wb') as f:\n",
        "            f.write(response.content)\n",
        "        print(f\"Downloaded {file}\")\n",
        "    else:\n",
        "        print(f\"Failed to download {file}\")\n"
      ],
      "metadata": {
        "colab": {
          "base_uri": "https://localhost:8080/"
        },
        "id": "BW50SLf4u9pi",
        "outputId": "dc2447a4-af3d-4ee3-cb4f-b072a6feff57"
      },
      "execution_count": null,
      "outputs": [
        {
          "output_type": "stream",
          "name": "stdout",
          "text": [
            "Downloaded tune.tsv\n",
            "Downloaded validation.tsv\n",
            "Downloaded test.tsv\n"
          ]
        }
      ]
    },
    {
      "cell_type": "code",
      "source": [
        "# Load datasets\n",
        "train_df = pd.read_csv(\"tune.tsv\", sep='\\t', header=None, names=['original', 'split'])\n",
        "val_df = pd.read_csv(\"validation.tsv\", sep='\\t', header=None, names=['original', 'split'])\n",
        "test_df = pd.read_csv(\"test.tsv\", sep='\\t', header=None, names=['original', 'split'])"
      ],
      "metadata": {
        "id": "8Dw10mFjxJtR"
      },
      "execution_count": null,
      "outputs": []
    },
    {
      "cell_type": "code",
      "source": [
        "sentence = train_df.head(1)\n",
        "\n",
        "print(sentence.to_string())"
      ],
      "metadata": {
        "colab": {
          "base_uri": "https://localhost:8080/"
        },
        "id": "MLcgpCpKxKvb",
        "outputId": "2c7b41ed-0374-439f-ba71-76bf49b5f9b7"
      },
      "execution_count": null,
      "outputs": [
        {
          "output_type": "stream",
          "name": "stdout",
          "text": [
            "                                                                                                                                                             original                                                                                                                                                                      split\n",
            "0  ' ( 1990 ) was the second sequel to appear , though Hooper did not return to direct due to scheduling conflicts with another film , '' Spontaneous Combustion '' .  ' ( 1990 ) was the second sequel to appear . <::::> Though Hooper did not return to direct due to scheduling conflicts with another film , '' Spontaneous Combustion '' .\n"
          ]
        }
      ]
    },
    {
      "cell_type": "code",
      "source": [
        "train_sentences = train_df['original'].dropna().tolist()\n",
        "val_sentences = val_df['original'].dropna().tolist()\n",
        "test_sentences = test_df['original'].dropna().tolist()\n"
      ],
      "metadata": {
        "id": "tAMUtvyduKED"
      },
      "execution_count": null,
      "outputs": []
    },
    {
      "cell_type": "code",
      "source": [
        "print(f\"Length of train dataset: {len(train_sentences)}\")\n",
        "print(f\"Length of validation dataset: {len(val_sentences)}\")\n",
        "print(f\"Length of test dataset: {len(test_sentences)}\")"
      ],
      "metadata": {
        "colab": {
          "base_uri": "https://localhost:8080/"
        },
        "id": "OsrV51rncSKR",
        "outputId": "71bb1dcf-29af-4def-f42a-8c2119c0dfc7"
      },
      "execution_count": null,
      "outputs": [
        {
          "output_type": "stream",
          "name": "stdout",
          "text": [
            "Length of train dataset: 5000\n",
            "Length of validation dataset: 5000\n",
            "Length of test dataset: 5000\n"
          ]
        }
      ]
    },
    {
      "cell_type": "code",
      "source": [
        "train_sentences[0]"
      ],
      "metadata": {
        "colab": {
          "base_uri": "https://localhost:8080/",
          "height": 35
        },
        "id": "jfrzZfrRxUH2",
        "outputId": "0e2459bc-25c1-4edc-fc84-993f1b72cebc"
      },
      "execution_count": null,
      "outputs": [
        {
          "output_type": "execute_result",
          "data": {
            "text/plain": [
              "\"' ( 1990 ) was the second sequel to appear , though Hooper did not return to direct due to scheduling conflicts with another film , '' Spontaneous Combustion '' .\""
            ],
            "application/vnd.google.colaboratory.intrinsic+json": {
              "type": "string"
            }
          },
          "metadata": {},
          "execution_count": 10
        }
      ]
    },
    {
      "cell_type": "code",
      "source": [],
      "metadata": {
        "id": "bjMtBTqOUCdx"
      },
      "execution_count": null,
      "outputs": []
    },
    {
      "cell_type": "code",
      "source": [
        "keyboard_adj = {\n",
        "    'a': 'qwsz', 'b': 'vghn', 'c': 'xdfv', 'd': 'ersfcx',\n",
        "    'e': 'wsdr', 'f': 'rtgdvc', 'g': 'tyfhvb', 'h': 'yugjnb',\n",
        "    'i': 'ujko', 'j': 'uikhmn', 'k': 'ijolm', 'l': 'kop',\n",
        "    'm': 'njk', 'n': 'bhjm', 'o': 'iklp', 'p': 'ol',\n",
        "    'q': 'wa', 'r': 'edft', 's': 'wedxza', 't': 'rfgy',\n",
        "    'u': 'yhji', 'v': 'cfgb', 'w': 'qase', 'x': 'zsdc',\n",
        "    'y': 'tghu', 'z': 'asx',\n",
        "}\n",
        "\n",
        "def introduce_typos(sentence, typo_prob=0.2):\n",
        "    def typo(word):\n",
        "        if (\n",
        "            len(word) <= 3 or\n",
        "            not word.isalpha() or\n",
        "            word[0].isupper() or\n",
        "            (len(word) > 1 and word[1].isupper()) or\n",
        "            random.random() > typo_prob\n",
        "        ):\n",
        "            return word\n",
        "\n",
        "        ops = ['delete', 'swap', 'replace', 'add', 'keyboard']\n",
        "        op = random.choice(ops)\n",
        "        i = random.randint(0, len(word) - 1)\n",
        "        c = word[i].lower()\n",
        "\n",
        "        if op == 'delete':\n",
        "            return word[:i] + word[i+1:]\n",
        "        elif op == 'swap' and i < len(word) - 1:\n",
        "            return word[:i] + word[i+1] + word[i] + word[i+2:]\n",
        "        elif op == 'replace':\n",
        "            return word[:i] + random.choice('abcdefghijklmnopqrstuvwxyz') + word[i+1:]\n",
        "        elif op == 'add':\n",
        "            return word[:i] + random.choice('abcdefghijklmnopqrstuvwxyz') + word[i:]\n",
        "        elif op == 'keyboard' and c in keyboard_adj:\n",
        "            replacement = random.choice(keyboard_adj[c])\n",
        "            return word[:i] + replacement + word[i+1:]\n",
        "        return word\n",
        "\n",
        "    return ' '.join([typo(w) for w in sentence.split()])\n"
      ],
      "metadata": {
        "id": "QN5Hh4bFuJ_x"
      },
      "execution_count": null,
      "outputs": []
    },
    {
      "cell_type": "code",
      "source": [
        "def generate_dataset(sentences, typo_prob=0.2, clean_percent=0.15, n_augmented=2):\n",
        "    random.seed(42)\n",
        "    corrupted = []\n",
        "    targets = []\n",
        "\n",
        "    for sent in sentences:\n",
        "        if random.random() < clean_percent:\n",
        "            corrupted.append(sent)\n",
        "            targets.append(sent)\n",
        "        else:\n",
        "            for _ in range(n_augmented):\n",
        "                corrupted.append(introduce_typos(sent, typo_prob))\n",
        "                targets.append(sent)\n",
        "\n",
        "    return pd.DataFrame({'input': corrupted, 'target': targets})\n",
        "\n",
        "\n",
        "train_data = generate_dataset(train_sentences, typo_prob=0.2, clean_percent=0.15)\n",
        "val_data = generate_dataset(val_sentences, typo_prob=0.2, clean_percent=0.15)\n",
        "test_data = generate_dataset(test_sentences, typo_prob=0.2, clean_percent=0.15)\n"
      ],
      "metadata": {
        "id": "Q4FUGFOUuJ9A"
      },
      "execution_count": null,
      "outputs": []
    },
    {
      "cell_type": "code",
      "source": [
        "train_dataset = Dataset.from_pandas(train_data)\n",
        "val_dataset = Dataset.from_pandas(val_data)\n",
        "test_dataset = Dataset.from_pandas(test_data)\n"
      ],
      "metadata": {
        "id": "7803H1rEuJ6a"
      },
      "execution_count": null,
      "outputs": []
    },
    {
      "cell_type": "code",
      "source": [
        "train_dataset[0] , val_dataset[0], test_dataset[0]"
      ],
      "metadata": {
        "colab": {
          "base_uri": "https://localhost:8080/"
        },
        "id": "6P5TsENc5_RL",
        "outputId": "2893dd7e-e7b0-4d7b-ce4e-d01e3858fcfa"
      },
      "execution_count": null,
      "outputs": [
        {
          "output_type": "execute_result",
          "data": {
            "text/plain": [
              "({'input': \"' ( 1990 ) was the shcond seque to appear , though Hooper did not return to drect due to scheduling conflicts with another film , '' Spontaneous Combustion '' .\",\n",
              "  'target': \"' ( 1990 ) was the second sequel to appear , though Hooper did not return to direct due to scheduling conflicts with another film , '' Spontaneous Combustion '' .\"},\n",
              " {'input': \"' Lauren Rose Crace ' , bhrn 25th of May 1986 in Birmingham , England , currentl aplays the aprt of '' Ronnie Mitchell 's '' long lost daughter Danielle Jones ( Amy ) in the soap opera '' EastEnders '' .\",\n",
              "  'target': \"' Lauren Rose Crace ' , born 25th of May 1986 in Birmingham , England , currently plays the part of '' Ronnie Mitchell 's '' long lost daughter Danielle Jones ( Amy ) in the soap opera '' EastEnders '' .\"},\n",
              " {'input': \"' Bandolier - Budgie ' , a fhee iTunes app for iPad , iPhone and iPod touc , areleased in December 2011 , tells the story of the making of Bandolier in the band 's own words - including an extensive audio interview with Burke Shelley .\",\n",
              "  'target': \"' Bandolier - Budgie ' , a free iTunes app for iPad , iPhone and iPod touch , released in December 2011 , tells the story of the making of Bandolier in the band 's own words - including an extensive audio interview with Burke Shelley .\"})"
            ]
          },
          "metadata": {},
          "execution_count": 27
        }
      ]
    },
    {
      "cell_type": "code",
      "source": [
        "print(f\"Length of train dataset: {len(train_dataset)}\")\n",
        "print(f\"Length of validation dataset: {len(val_dataset)}\")\n",
        "print(f\"Length of test dataset: {len(test_dataset)}\")"
      ],
      "metadata": {
        "colab": {
          "base_uri": "https://localhost:8080/"
        },
        "id": "3599nhgTopaW",
        "outputId": "fe67a675-8d84-475d-e09b-d6ccb64c2d28"
      },
      "execution_count": null,
      "outputs": [
        {
          "output_type": "stream",
          "name": "stdout",
          "text": [
            "Length of train dataset: 9286\n",
            "Length of validation dataset: 9283\n",
            "Length of test dataset: 9266\n"
          ]
        }
      ]
    },
    {
      "cell_type": "code",
      "source": [
        "test_dataset = test_dataset.select(range(1000))\n",
        "print(f\"Length of test dataset: {len(test_dataset)}\")"
      ],
      "metadata": {
        "colab": {
          "base_uri": "https://localhost:8080/"
        },
        "id": "W7SSkysItBLG",
        "outputId": "462d2df7-f0b3-448b-a407-513d12f56f3d"
      },
      "execution_count": null,
      "outputs": [
        {
          "output_type": "stream",
          "name": "stdout",
          "text": [
            "Length of test dataset: 1000\n"
          ]
        }
      ]
    },
    {
      "cell_type": "code",
      "source": [
        "max_train_len = 0\n",
        "for example in train_dataset:\n",
        "    max_train_len = max(max_train_len, len(example['input']), len(example['target']))\n",
        "\n",
        "max_val_len = 0\n",
        "for example in val_dataset:\n",
        "    max_val_len = max(max_val_len, len(example['input']), len(example['target']))\n",
        "\n",
        "print(f\"Max train length: {max_train_len}\")\n",
        "print(f\"Max val length: {max_val_len}\")\n",
        "\n",
        "\n",
        "max_length = max(max_train_len, max_val_len)  # = 346\n"
      ],
      "metadata": {
        "colab": {
          "base_uri": "https://localhost:8080/"
        },
        "id": "ZFXMlQ4wFHuE",
        "outputId": "3938d7ba-2845-468d-b12f-ead8b1e02ea3"
      },
      "execution_count": null,
      "outputs": [
        {
          "output_type": "stream",
          "name": "stdout",
          "text": [
            "Max train length: 340\n",
            "Max val length: 350\n"
          ]
        }
      ]
    },
    {
      "cell_type": "code",
      "source": [
        "def preprocess(tokenizer, dataset):\n",
        "    def tokenize(example):\n",
        "        model_inputs = tokenizer(example[\"input\"], max_length=128, truncation=True, padding=\"max_length\")\n",
        "        with tokenizer.as_target_tokenizer():\n",
        "            labels = tokenizer(example[\"target\"], max_length=128, truncation=True, padding=\"max_length\")\n",
        "        model_inputs[\"labels\"] = labels[\"input_ids\"]\n",
        "        return model_inputs\n",
        "\n",
        "    return dataset.map(tokenize, batched=True)\n"
      ],
      "metadata": {
        "id": "lySWrXuvuJ3w"
      },
      "execution_count": null,
      "outputs": []
    },
    {
      "cell_type": "code",
      "source": [
        "!pip install Levenshtein fuzzywuzzy"
      ],
      "metadata": {
        "colab": {
          "base_uri": "https://localhost:8080/"
        },
        "id": "ERfQ9xXdVPZj",
        "outputId": "4b240524-1d77-43e8-faf8-b83a00caba7a"
      },
      "execution_count": null,
      "outputs": [
        {
          "output_type": "stream",
          "name": "stdout",
          "text": [
            "Requirement already satisfied: Levenshtein in /usr/local/lib/python3.11/dist-packages (0.27.1)\n",
            "Collecting fuzzywuzzy\n",
            "  Downloading fuzzywuzzy-0.18.0-py2.py3-none-any.whl.metadata (4.9 kB)\n",
            "Requirement already satisfied: rapidfuzz<4.0.0,>=3.9.0 in /usr/local/lib/python3.11/dist-packages (from Levenshtein) (3.13.0)\n",
            "Downloading fuzzywuzzy-0.18.0-py2.py3-none-any.whl (18 kB)\n",
            "Installing collected packages: fuzzywuzzy\n",
            "Successfully installed fuzzywuzzy-0.18.0\n"
          ]
        }
      ]
    },
    {
      "cell_type": "code",
      "source": [
        "from transformers import Seq2SeqTrainingArguments, Seq2SeqTrainer, DataCollatorForSeq2Seq\n",
        "from transformers import T5Tokenizer, T5ForConditionalGeneration\n",
        "import numpy as np\n",
        "from Levenshtein import distance\n",
        "from nltk.translate.gleu_score import corpus_gleu\n",
        "from fuzzywuzzy import fuzz\n"
      ],
      "metadata": {
        "id": "vGmd7SxqVNac"
      },
      "execution_count": null,
      "outputs": []
    },
    {
      "cell_type": "code",
      "source": [],
      "metadata": {
        "id": "Plih2HVXWBVk"
      },
      "execution_count": null,
      "outputs": []
    },
    {
      "cell_type": "code",
      "source": [
        "import os\n",
        "def train_model(model_name, tokenizer_cls, model_cls):\n",
        "\n",
        "    tokenizer = tokenizer_cls.from_pretrained(model_name)\n",
        "    model = model_cls.from_pretrained(model_name)\n",
        "\n",
        "    tokenized_train = preprocess(tokenizer, train_dataset)\n",
        "    tokenized_val = preprocess(tokenizer, val_dataset)\n",
        "\n",
        "    training_args = Seq2SeqTrainingArguments(\n",
        "        output_dir=f\"./{model_name}-finetuned-spell\",\n",
        "        learning_rate=2e-5,\n",
        "        per_device_train_batch_size=8,\n",
        "        per_device_eval_batch_size=8,\n",
        "        weight_decay=0.01,\n",
        "        save_total_limit=2,\n",
        "        num_train_epochs=3,\n",
        "        predict_with_generate=True,\n",
        "        logging_dir=\"./logs\",\n",
        "        fp16=True\n",
        "    )\n",
        "\n",
        "    data_collator = DataCollatorForSeq2Seq(tokenizer, model=model)\n",
        "\n",
        "    trainer = Seq2SeqTrainer(\n",
        "        model=model,\n",
        "        args=training_args,\n",
        "        train_dataset=tokenized_train,\n",
        "        eval_dataset=tokenized_val,\n",
        "        tokenizer=tokenizer,\n",
        "        data_collator=data_collator,\n",
        "    )\n",
        "\n",
        "    try:\n",
        "        model = model_cls.from_pretrained(f\"./{model_name}-finetuned-spell\")\n",
        "        tokenizer = tokenizer_cls.from_pretrained(f\"./{model_name}-finetuned-spell\")\n",
        "        # Load trainer state directly on instantiation.\n",
        "        trainer = Seq2SeqTrainer(\n",
        "            model=model,\n",
        "            train_dataset=tokenized_train,\n",
        "            eval_dataset=tokenized_val,\n",
        "            args=training_args,\n",
        "            tokenizer=tokenizer,\n",
        "            data_collator=DataCollatorForSeq2Seq(tokenizer, model=model)\n",
        "        )\n",
        "        print(\"Loading saved model...\")\n",
        "        # Load trainer state from checkpoint-3750\n",
        "        trainer.train(resume_from_checkpoint=os.path.join(f\"./{model_name}-finetuned-spell/checkpoint-3750\"))\n",
        "\n",
        "        print(\"Returning\")\n",
        "        return trainer, tokenizer, model\n",
        "    except Exception as e:\n",
        "        print(f\"Error loading saved model: {e}\")\n",
        "        pass # or handle the exception appropriately\n",
        "    print(\"Training model...\")\n",
        "    trainer.train()\n",
        "\n",
        "    # save the model, tokenizer and trainer\n",
        "    model.save_pretrained(f\"./{model_name}-finetuned-spell\")\n",
        "    tokenizer.save_pretrained(f\"./{model_name}-finetuned-spell\")\n",
        "    trainer.save_state()\n",
        "\n",
        "\n",
        "    return trainer, tokenizer, model\n"
      ],
      "metadata": {
        "id": "oxet8HayuJ0q"
      },
      "execution_count": null,
      "outputs": []
    },
    {
      "cell_type": "code",
      "source": [
        "bart_trainer, bart_tokenizer, bart_model = train_model(\"facebook/bart-base\", BartTokenizer, BartForConditionalGeneration)\n"
      ],
      "metadata": {
        "id": "j6_bh797uJkV",
        "colab": {
          "base_uri": "https://localhost:8080/",
          "height": 504,
          "referenced_widgets": [
            "7bcb9cfeee044816af2dea36f0392fe7",
            "ee9b638c2fbf472da909c883cc01cdef",
            "4d1160b560e54e0fa102f769b73158a9",
            "be38f81a3bc74f78b92b9cf3eae7db86",
            "390fbe03680645e7937eb036f5ba7f26",
            "fecb2e3168844ded9f6adeefe48f0054",
            "504a8cca1a934137aa91597e09c58629",
            "8a7c34f86bc7476398ae374a188038be",
            "2158c645f7fc4b9481d25c9a1f67e1fb",
            "a0432550ea7f495eabedf482f17f2df4",
            "ad405ee0dcb048aa87782fffa4af00b9",
            "bd56492e945a4a0ca642cb29201531bd",
            "42d2382e5a5744deb9deeb6888deaf52",
            "5a386ac48e4d47b293fa4d56d45930aa",
            "555f10af323b4285bb8cb316ee8bf6a5",
            "48501dc06592445bba795c4c79f7b7f2",
            "abdeb7aad685442a8b687be3bffa2ade",
            "09c20bd7bd4a49db8154db3d85db4c7b",
            "fce0762da792430fa07c7644b118e94b",
            "3158221e692b4924a1c197c51e055d91",
            "f3a98c10b801478a9c3ed670df1db470",
            "4ddd29b533994c2ea1f5049e54318f01"
          ]
        },
        "outputId": "158ccb88-114a-4980-8ce9-1ee47ee13966"
      },
      "execution_count": null,
      "outputs": [
        {
          "output_type": "display_data",
          "data": {
            "text/plain": [
              "Map:   0%|          | 0/9286 [00:00<?, ? examples/s]"
            ],
            "application/vnd.jupyter.widget-view+json": {
              "version_major": 2,
              "version_minor": 0,
              "model_id": "7bcb9cfeee044816af2dea36f0392fe7"
            }
          },
          "metadata": {}
        },
        {
          "output_type": "stream",
          "name": "stderr",
          "text": [
            "/usr/local/lib/python3.11/dist-packages/transformers/tokenization_utils_base.py:3980: UserWarning: `as_target_tokenizer` is deprecated and will be removed in v5 of Transformers. You can tokenize your labels by using the argument `text_target` of the regular `__call__` method (either in the same call as your input texts if you use the same keyword arguments, or in a separate call.\n",
            "  warnings.warn(\n"
          ]
        },
        {
          "output_type": "display_data",
          "data": {
            "text/plain": [
              "Map:   0%|          | 0/9283 [00:00<?, ? examples/s]"
            ],
            "application/vnd.jupyter.widget-view+json": {
              "version_major": 2,
              "version_minor": 0,
              "model_id": "bd56492e945a4a0ca642cb29201531bd"
            }
          },
          "metadata": {}
        },
        {
          "output_type": "stream",
          "name": "stderr",
          "text": [
            "<ipython-input-64-cec50a8bf832>:25: FutureWarning: `tokenizer` is deprecated and will be removed in version 5.0.0 for `Seq2SeqTrainer.__init__`. Use `processing_class` instead.\n",
            "  trainer = Seq2SeqTrainer(\n",
            "<ipython-input-64-cec50a8bf832>:38: FutureWarning: `tokenizer` is deprecated and will be removed in version 5.0.0 for `Seq2SeqTrainer.__init__`. Use `processing_class` instead.\n",
            "  trainer = Seq2SeqTrainer(\n"
          ]
        },
        {
          "output_type": "stream",
          "name": "stdout",
          "text": [
            "Loading saved model...\n",
            "Error loading saved model: Can't find a valid checkpoint at ./facebook/bart-base-finetuned-spell/checkpoint-3750\n",
            "Training model...\n"
          ]
        },
        {
          "output_type": "display_data",
          "data": {
            "text/plain": [
              "<IPython.core.display.HTML object>"
            ],
            "text/html": [
              "\n",
              "    <div>\n",
              "      \n",
              "      <progress value='3483' max='3483' style='width:300px; height:20px; vertical-align: middle;'></progress>\n",
              "      [3483/3483 13:59, Epoch 3/3]\n",
              "    </div>\n",
              "    <table border=\"1\" class=\"dataframe\">\n",
              "  <thead>\n",
              " <tr style=\"text-align: left;\">\n",
              "      <th>Step</th>\n",
              "      <th>Training Loss</th>\n",
              "    </tr>\n",
              "  </thead>\n",
              "  <tbody>\n",
              "    <tr>\n",
              "      <td>500</td>\n",
              "      <td>0.015800</td>\n",
              "    </tr>\n",
              "    <tr>\n",
              "      <td>1000</td>\n",
              "      <td>0.011800</td>\n",
              "    </tr>\n",
              "    <tr>\n",
              "      <td>1500</td>\n",
              "      <td>0.008400</td>\n",
              "    </tr>\n",
              "    <tr>\n",
              "      <td>2000</td>\n",
              "      <td>0.006900</td>\n",
              "    </tr>\n",
              "    <tr>\n",
              "      <td>2500</td>\n",
              "      <td>0.007400</td>\n",
              "    </tr>\n",
              "    <tr>\n",
              "      <td>3000</td>\n",
              "      <td>0.006800</td>\n",
              "    </tr>\n",
              "  </tbody>\n",
              "</table><p>"
            ]
          },
          "metadata": {}
        }
      ]
    },
    {
      "cell_type": "code",
      "source": [
        "pip install python-Levenshtein"
      ],
      "metadata": {
        "colab": {
          "base_uri": "https://localhost:8080/"
        },
        "collapsed": true,
        "id": "4VIg2z8goc0X",
        "outputId": "bae85fa8-a0ab-437c-ca53-5c3a44d57c05"
      },
      "execution_count": null,
      "outputs": [
        {
          "output_type": "stream",
          "name": "stdout",
          "text": [
            "Collecting python-Levenshtein\n",
            "  Downloading python_levenshtein-0.27.1-py3-none-any.whl.metadata (3.7 kB)\n",
            "Requirement already satisfied: Levenshtein==0.27.1 in /usr/local/lib/python3.11/dist-packages (from python-Levenshtein) (0.27.1)\n",
            "Requirement already satisfied: rapidfuzz<4.0.0,>=3.9.0 in /usr/local/lib/python3.11/dist-packages (from Levenshtein==0.27.1->python-Levenshtein) (3.13.0)\n",
            "Downloading python_levenshtein-0.27.1-py3-none-any.whl (9.4 kB)\n",
            "Installing collected packages: python-Levenshtein\n",
            "Successfully installed python-Levenshtein-0.27.1\n"
          ]
        }
      ]
    },
    {
      "cell_type": "code",
      "source": [
        "import Levenshtein\n",
        "\n",
        "def compute_levenshtein(predictions, references):\n",
        "    distances = []\n",
        "    for pred, ref in zip(predictions, references):\n",
        "        dist = Levenshtein.distance(pred, ref)\n",
        "        distances.append(dist)\n",
        "    avg_distance = sum(distances) / len(distances)\n",
        "    return {\"avg_levenshtein_distance\": avg_distance}\n"
      ],
      "metadata": {
        "id": "qBg2gWlgs1F4"
      },
      "execution_count": null,
      "outputs": []
    },
    {
      "cell_type": "code",
      "source": [
        "from evaluate import load\n",
        "import Levenshtein\n",
        "\n",
        "cer = load(\"cer\")\n",
        "wer = load(\"wer\")\n",
        "\n",
        "def evaluate_model_metrics_batched(trainer, tokenizer, dataset, batch_size=32):\n",
        "    inputs = dataset['input']\n",
        "    targets = dataset['target']\n",
        "\n",
        "    preds = []\n",
        "    for i in range(0, len(inputs), batch_size):\n",
        "        batch_inputs = inputs[i:i+batch_size]\n",
        "        tokenized = tokenizer(batch_inputs, return_tensors=\"pt\", padding=True, truncation=True, max_length=128).to(trainer.model.device)\n",
        "        output_ids = trainer.model.generate(**tokenized, max_length=128)\n",
        "        batch_preds = tokenizer.batch_decode(output_ids, skip_special_tokens=True)\n",
        "        preds.extend(batch_preds)\n",
        "\n",
        "    cer_score = cer.compute(predictions=preds, references=targets)\n",
        "    wer_score = wer.compute(predictions=preds, references=targets)\n",
        "    levenshtein_score = compute_levenshtein(preds, targets)\n",
        "\n",
        "    return {\n",
        "        \"CER\": cer_score,\n",
        "        \"WER\": wer_score,\n",
        "        \"Levenshtein\": levenshtein_score\n",
        "    }, preds\n",
        "\n",
        "\n",
        "bart_metrics, bart_preds = evaluate_model_metrics_batched(bart_trainer, bart_tokenizer, test_dataset)\n"
      ],
      "metadata": {
        "id": "a-IGV3eBQ60y"
      },
      "execution_count": null,
      "outputs": []
    },
    {
      "cell_type": "code",
      "source": [
        "bart_metrics"
      ],
      "metadata": {
        "colab": {
          "base_uri": "https://localhost:8080/"
        },
        "id": "9ZDkc3eHt8cU",
        "outputId": "139585f1-4a03-4821-8c05-07658d56ce7f"
      },
      "execution_count": null,
      "outputs": [
        {
          "output_type": "execute_result",
          "data": {
            "text/plain": [
              "{'CER': 0.03087198271607646,\n",
              " 'WER': 0.03935651513824414,\n",
              " 'Levenshtein': {'avg_levenshtein_distance': 5.63}}"
            ]
          },
          "metadata": {},
          "execution_count": 69
        }
      ]
    },
    {
      "cell_type": "code",
      "source": [
        "def correct_sentence(model, tokenizer, sentence):\n",
        "    inputs = tokenizer(sentence, return_tensors=\"pt\").to(model.device)\n",
        "    output_ids = model.generate(**inputs)\n",
        "    return tokenizer.decode(output_ids[0], skip_special_tokens=True)\n",
        "\n",
        "\n",
        "user_input = \"Ths is a sentnce with spleling errors.\"\n",
        "print(\"User Input:\", user_input)\n",
        "print(\"BART Corrected:\", correct_sentence(bart_model, bart_tokenizer, user_input))\n"
      ],
      "metadata": {
        "id": "8ZfdKCgtucPh",
        "colab": {
          "base_uri": "https://localhost:8080/"
        },
        "outputId": "991d8d19-add3-4f26-98c6-3e740d2a74f0"
      },
      "execution_count": null,
      "outputs": [
        {
          "output_type": "stream",
          "name": "stdout",
          "text": [
            "User Input: Ths is a sentnce with spleling errors.\n",
            "BART Corrected: Ths is a problem with spelling errors.\n"
          ]
        }
      ]
    },
    {
      "cell_type": "code",
      "source": [
        "user_input = \"I haate Inter Milan fery much\"\n",
        "print(\"User Input:\", user_input)\n",
        "print(\"BART Corrected:\", correct_sentence(bart_model, bart_tokenizer, user_input))"
      ],
      "metadata": {
        "colab": {
          "base_uri": "https://localhost:8080/"
        },
        "id": "JoXxyVRIuwkO",
        "outputId": "18f4bdde-c016-450f-bc10-8aa84ea29c49"
      },
      "execution_count": null,
      "outputs": [
        {
          "output_type": "stream",
          "name": "stdout",
          "text": [
            "User Input: I haate Inter Milan fery much\n",
            "BART Corrected: I love Inter Milan very much\n"
          ]
        }
      ]
    },
    {
      "cell_type": "code",
      "source": [
        "examples = [\n",
        "    \"I havw a dream about technology.\",\n",
        "    \"The quick brown fox jumped over the lazey dog.\",\n",
        "    \"Pleas correct this entire sentence with many typos.\"\n",
        "]\n",
        "\n",
        "for s in examples:\n",
        "    print(f\"\\nOriginal:  {s}\")\n",
        "    print(f\"Corrected: {correct_sentence(bart_model, bart_tokenizer, s)}\")\n"
      ],
      "metadata": {
        "colab": {
          "base_uri": "https://localhost:8080/"
        },
        "id": "VTXHawEzvYYL",
        "outputId": "263513b5-dddb-4ebe-b3a1-87c5618b209e"
      },
      "execution_count": null,
      "outputs": [
        {
          "output_type": "stream",
          "name": "stdout",
          "text": [
            "\n",
            "Original:  I havw a dream about technology.\n",
            "Corrected: I have a dream about technology.\n",
            "\n",
            "Original:  The quick brown fox jumped over the lazey dog.\n",
            "Corrected: The quick brown fox jumped over the startled dog.\n",
            "\n",
            "Original:  Pleas correct this entire sentence with many typos.\n",
            "Corrected: Pleas correct this entire sentence with many typos.\n"
          ]
        }
      ]
    },
    {
      "cell_type": "code",
      "source": [
        "for i in range(5):\n",
        "    idx = random.randint(0, len(test_dataset))\n",
        "    print(f\"\\nOriginal:  {test_dataset[idx]['input']}\")\n",
        "    print(f\"Corrected: {correct_sentence(bart_model, bart_tokenizer, test_dataset[idx]['input'])}\")"
      ],
      "metadata": {
        "id": "Jtu7hZpp3YHO",
        "colab": {
          "base_uri": "https://localhost:8080/"
        },
        "outputId": "927cd91f-f027-48c6-90d5-b00aa8f090ee"
      },
      "execution_count": null,
      "outputs": [
        {
          "output_type": "stream",
          "name": "stdout",
          "text": [
            "\n",
            "Original:  An elbum of the same name was also rdleased following the song 's success , nhich was also quite successful as was certified '' Gold '' by the RIAA in early 1973 for selling over 500,000 copies .\n",
            "Corrected: An album of the same name was also released following the song 's success , which was\n",
            "\n",
            "Original:  A cash settlement at the expiry of the contract will fund the financial lsos incurred by any rise in the physical jet fuel , allowing the companies to etter measure future cash flows .\n",
            "Corrected: A cash settlement at the expiry of the contract will fund the financial losses incurred by any\n",
            "\n",
            "Original:  '' Flying Easy Loving Crazy '' is Toshinobu Kubota 's thirty - third single , featuring R&B singer Misia , released on March 26 , 2008 .\n",
            "Corrected: '' Flying Easy Loving Crazy '' is Toshinobu Kubota 's thirty - third\n",
            "\n",
            "Original:  Arriving in Bad Wiessee nround 6 - 7h when the SA , still in bed , wsre takeen by surprise , the SS stofrmed the hotel and Hitler personally placed Röhm and other high - ranking SA leaders under arest .\n",
            "Corrected: Arriving in Bad Wiessee around 6 - 7h when the SA , still\n",
            "\n",
            "Original:  Accommodation at the plison comprises a mixture of single and duble acyommodation cells conained on 3 wings , and a further residential unit of sigle cell accommodatino which is used as an Induction Unit for newly arrived prisoners .\n",
            "Corrected: Accommodation at the prison comprises a mixture of single and doubleommodation cells located on\n"
          ]
        }
      ]
    },
    {
      "cell_type": "code",
      "source": [
        "original_grammer = \"I have 3 shrits\"\n",
        "corrected_sentence = correct_sentence(bart_model, bart_tokenizer, original_grammer)\n",
        "print(f\"Original:  {original_grammer}\")\n",
        "print(f\"Corrected: {corrected_sentence}\")"
      ],
      "metadata": {
        "id": "I48sKKt83X_1",
        "colab": {
          "base_uri": "https://localhost:8080/"
        },
        "outputId": "776a6f9b-1474-46e7-a9d8-d70afd3b5d37"
      },
      "execution_count": null,
      "outputs": [
        {
          "output_type": "stream",
          "name": "stdout",
          "text": [
            "Original:  I have 3 shrits\n",
            "Corrected: I have 3 kids\n"
          ]
        }
      ]
    },
    {
      "cell_type": "code",
      "source": [],
      "metadata": {
        "id": "rfbd4oIgbpDz"
      },
      "execution_count": null,
      "outputs": []
    }
  ]
}
